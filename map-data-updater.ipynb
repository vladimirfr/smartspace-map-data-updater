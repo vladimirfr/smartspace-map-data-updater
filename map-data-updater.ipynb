{
 "cells": [
  {
   "cell_type": "markdown",
   "metadata": {},
   "source": [
    "# Mapping Web Case Study"
   ]
  },
  {
   "cell_type": "markdown",
   "metadata": {},
   "source": [
    "## Requiremennts"
   ]
  },
  {
   "cell_type": "markdown",
   "metadata": {},
   "source": [
    "***Please  run only once***"
   ]
  },
  {
   "cell_type": "code",
   "execution_count": null,
   "metadata": {
    "scrolled": true
   },
   "outputs": [],
   "source": [
    "!pip install --upgrade ipywidgets\n",
    "!pip install --upgrade pandas\n",
    "!pip install --upgrade xlsxwriter\n",
    "!pip install --upgrade mysql-connector-python\n",
    "!pip install --upgrade numpy "
   ]
  },
  {
   "cell_type": "markdown",
   "metadata": {},
   "source": [
    "## Start"
   ]
  },
  {
   "cell_type": "code",
   "execution_count": null,
   "metadata": {},
   "outputs": [],
   "source": [
    "import ipywidgets as widgets\n",
    "from IPython.display import display, Javascript, HTML\n",
    "\n",
    "import mysql.connector\n",
    "import pandas as pd"
   ]
  },
  {
   "cell_type": "code",
   "execution_count": null,
   "metadata": {},
   "outputs": [],
   "source": [
    "MAP_DATA_FILE_NAME = \"map-data.csv\"\n",
    "RESULT_FILE_NAME = 'awo300.csv'"
   ]
  },
  {
   "cell_type": "markdown",
   "metadata": {},
   "source": [
    "#### Connection info to prod database\n",
    "\n",
    "*Note: user should enabled external connections*"
   ]
  },
  {
   "cell_type": "code",
   "execution_count": null,
   "metadata": {},
   "outputs": [],
   "source": [
    "HOST = 'smart-space.co.uk'\n",
    "DATABASE = 'Please fill'\n",
    "USER = 'Please fill'\n",
    "PASSWORD = 'Please fill'"
   ]
  },
  {
   "cell_type": "markdown",
   "metadata": {},
   "source": [
    "#### Read case studies information"
   ]
  },
  {
   "cell_type": "code",
   "execution_count": null,
   "metadata": {},
   "outputs": [],
   "source": [
    "case_study_df = []"
   ]
  },
  {
   "cell_type": "code",
   "execution_count": null,
   "metadata": {},
   "outputs": [],
   "source": [
    "try:\n",
    "    \n",
    "    connection = mysql.connector.connect(\n",
    "        host = HOST,\n",
    "        user = USER,\n",
    "        password = PASSWORD,\n",
    "        database = DATABASE \n",
    "    )\n",
    "\n",
    "except mysql.connector.Error as err:\n",
    "    display(Javascript(\"alert('Failed to connect to MySQL database, please check credentials above')\"))\n",
    "\n",
    "if connection.is_connected():\n",
    "    cursor = connection.cursor(dictionary=True)\n",
    "\n",
    "    try:\n",
    "        query = \"\"\"\n",
    "        SELECT \n",
    "            B.`id`, \n",
    "            B.`longtitle` as case_study,\n",
    "            B.`uri` as case_study_uri, \n",
    "            `value`, \n",
    "            C.`longtitle` as testinomials, \n",
    "            C.`uri` as testinomials_uri \n",
    "        FROM \n",
    "            `modx_site_tmplvar_contentvalues` as A \n",
    "            INNER JOIN `modx_site_content` as B ON A.`contentid` = B.`id` \n",
    "            INNER JOIN `modx_site_content` as C ON A.`value` = C.`id` \n",
    "        WHERE \n",
    "            `tmplvarid` = 163\"\"\"\n",
    "        \n",
    "        cursor.execute(query)\n",
    "\n",
    "        rows = cursor.fetchall()\n",
    "        for row in rows:\n",
    "            case_study_df.append(row)\n",
    "\n",
    "    except mysql.connector.Error as err:\n",
    "        print(f\"Error: {err}\")\n",
    "\n",
    "    finally:\n",
    "        cursor.close()\n",
    "        connection.close()\n",
    "\n",
    "else:\n",
    "    display(Javascript(\"alert('Failed to read from MySQL database, please check permissions')\"))"
   ]
  },
  {
   "cell_type": "code",
   "execution_count": null,
   "metadata": {},
   "outputs": [],
   "source": [
    "case_study_df = pd.DataFrame(case_study_df)\n",
    "case_study_df.head()"
   ]
  },
  {
   "cell_type": "markdown",
   "metadata": {},
   "source": [
    "#### Upload map data"
   ]
  },
  {
   "cell_type": "code",
   "execution_count": null,
   "metadata": {
    "scrolled": true
   },
   "outputs": [],
   "source": [
    "upload_button = widgets.FileUpload(description=\"Upload map data in csv format, with separator';'\", accept=\".csv\")\n",
    "\n",
    "def handle_upload(change):\n",
    "    uploaded_filename = list(upload_button.value.keys())[0]\n",
    "    uploaded_content = upload_button.value[uploaded_filename][\"content\"]\n",
    "\n",
    "    with open(MAP_DATA_FILE_NAME, \"wb\") as f:\n",
    "        f.write(uploaded_content)\n",
    "    print(f\"File '{uploaded_filename}' uploaded successfully.\")\n",
    "\n",
    "upload_button.observe(handle_upload, names=\"value\")\n",
    "\n",
    "display(upload_button)\n",
    "upload_button._dom_classes = (\"upload-button\",)\n",
    "\n",
    "Javascript(\"\"\"\n",
    "    let upload_buttons = document.querySelectorAll('.upload-button');\n",
    "    upload_buttons.forEach((element) => element.click());\n",
    "\"\"\")"
   ]
  },
  {
   "cell_type": "code",
   "execution_count": null,
   "metadata": {},
   "outputs": [],
   "source": [
    "map_data_df = pd.read_csv(MAP_DATA_FILE_NAME, sep=\";\").fillna(\"\")\n",
    "\n",
    "map_data_df[\"Web Title Testimonials\"] = \"\"\n",
    "map_data_df[\"Web Testimonials\"] = \"\"\n",
    "\n",
    "map_data_df.head()"
   ]
  },
  {
   "cell_type": "code",
   "execution_count": null,
   "metadata": {},
   "outputs": [],
   "source": [
    "df1 = pd.read_csv(\"PVG Map Data 23-11-01.csv\", sep=\";\").fillna(\"\")\n",
    "df1.head()"
   ]
  },
  {
   "cell_type": "markdown",
   "metadata": {},
   "source": [
    "#### Join data"
   ]
  },
  {
   "cell_type": "code",
   "execution_count": null,
   "metadata": {
    "scrolled": true
   },
   "outputs": [],
   "source": [
    "BASE_URL = \"https://smart-space.co.uk/\"\n",
    "for i in range(len(map_data_df)):\n",
    "    map_data_cs_url = map_data_df['Web Case Study'][i]\n",
    "    map_data_cs_url = map_data_cs_url.replace(BASE_URL,\"\").strip('/')\n",
    "    \n",
    "    if len(map_data_cs_url) == 0:\n",
    "        continue\n",
    "    \n",
    "    for j in range(len(case_study_df)):\n",
    "        case_study_url = case_study_df['case_study_uri'][j]\n",
    "        case_study_url = case_study_url.strip('/')\n",
    "        \n",
    "        if not(map_data_cs_url == case_study_url):\n",
    "            continue\n",
    "        \n",
    "        name = map_data_df['NAME'][i]\n",
    "        print(name)\n",
    "        print(BASE_URL + map_data_cs_url)\n",
    "        map_data_df['Web Title Testimonials'][i] = case_study_df['testinomials'][j]\n",
    "        map_data_df['Web Testimonials'][i] = BASE_URL + case_study_df['testinomials_uri'][j]"
   ]
  },
  {
   "cell_type": "code",
   "execution_count": null,
   "metadata": {},
   "outputs": [],
   "source": [
    "map_data_df.drop(map_data_df[map_data_df[\"Installation Address Postcode\"] == \"\"].index, inplace=True)\n",
    "\n",
    "for column in [\"Building Type\", \"Hire Or Buy\", \"Application\"]:\n",
    "    map_data_df[column] = map_data_df[column].str.capitalize()"
   ]
  },
  {
   "cell_type": "code",
   "execution_count": null,
   "metadata": {},
   "outputs": [],
   "source": [
    "\n",
    "\n",
    "map_data_df.to_csv(RESULT_FILE_NAME, sep = ';', index=False)\n",
    "map_data_df.head()"
   ]
  },
  {
   "cell_type": "code",
   "execution_count": null,
   "metadata": {
    "scrolled": false
   },
   "outputs": [],
   "source": [
    "download_link = \"<h3>Please convert file from link bellow to xlsx format and upload to folder data as awo300.xlsx</h3>\"\n",
    "download_link += f'<a href=\"{RESULT_FILE_NAME}\" download>Download File ({RESULT_FILE_NAME})</a>'\n",
    "\n",
    "HTML(download_link)"
   ]
  },
  {
   "cell_type": "code",
   "execution_count": null,
   "metadata": {},
   "outputs": [],
   "source": []
  }
 ],
 "metadata": {
  "kernelspec": {
   "display_name": "Python 3",
   "language": "python",
   "name": "python3"
  },
  "language_info": {
   "codemirror_mode": {
    "name": "ipython",
    "version": 3
   },
   "file_extension": ".py",
   "mimetype": "text/x-python",
   "name": "python",
   "nbconvert_exporter": "python",
   "pygments_lexer": "ipython3",
   "version": "3.8.3"
  }
 },
 "nbformat": 4,
 "nbformat_minor": 2
}
